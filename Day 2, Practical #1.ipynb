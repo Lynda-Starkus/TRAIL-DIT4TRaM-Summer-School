{
 "cells": [
  {
   "cell_type": "markdown",
   "id": "39325a9d",
   "metadata": {},
   "source": [
    "# Welcome"
   ]
  },
  {
   "cell_type": "markdown",
   "id": "d90d6585",
   "metadata": {},
   "source": [
    "In this tutorial, we will estimate a few simple choice models to get a better idea of travel behaviour and people's willingness to pay and trade off various different attributes."
   ]
  },
  {
   "cell_type": "markdown",
   "id": "bcb9b1d1",
   "metadata": {},
   "source": [
    "Start by importing the appropriate libraries. For this exercise, you should import:\n",
    "- pandas\n",
    "- numpy\n",
    "- biogeme"
   ]
  },
  {
   "cell_type": "code",
   "execution_count": null,
   "id": "42d37abd",
   "metadata": {},
   "outputs": [],
   "source": [
    "import pandas as pd\n",
    "import numpy as np\n",
    "import biogeme.models as models\n",
    "import biogeme.database as db\n",
    "from biogeme.expressions import Beta, log, exp\n",
    "import biogeme.biogeme as bio"
   ]
  },
  {
   "cell_type": "markdown",
   "id": "3865e8f7",
   "metadata": {},
   "source": [
    "Import the dataset from the game we played before lunch."
   ]
  },
  {
   "cell_type": "code",
   "execution_count": null,
   "id": "6e77bc1e",
   "metadata": {},
   "outputs": [],
   "source": [
    "df = pd.read_csv('data_stacked.csv')\n",
    "df.fillna(0, inplace=True)"
   ]
  },
  {
   "cell_type": "code",
   "execution_count": null,
   "id": "ca9fe2d8",
   "metadata": {},
   "outputs": [],
   "source": [
    "print(df.head())"
   ]
  },
  {
   "cell_type": "markdown",
   "id": "2029d8b1",
   "metadata": {},
   "source": [
    "## Choice model estimation"
   ]
  },
  {
   "cell_type": "markdown",
   "id": "55bcea56",
   "metadata": {},
   "source": [
    "Give your model a name. This will allow you to trace it back later to review previous results. If you do not change the name, biogeme will attach a serial number after the name, to prevent overwriting of existing model outputs."
   ]
  },
  {
   "cell_type": "code",
   "execution_count": null,
   "id": "9f760953",
   "metadata": {},
   "outputs": [],
   "source": [
    "name = 'my_model_1'"
   ]
  },
  {
   "cell_type": "markdown",
   "id": "73ad3b8a",
   "metadata": {},
   "source": [
    "Define the database and all the columns as variables that can be used with their respective column names."
   ]
  },
  {
   "cell_type": "code",
   "execution_count": null,
   "id": "4f967db3",
   "metadata": {},
   "outputs": [],
   "source": [
    "database = db.Database('TMC',df)\n",
    "globals().update(database.variables)"
   ]
  },
  {
   "cell_type": "markdown",
   "id": "e2a4a363",
   "metadata": {},
   "source": [
    "Define the parameters to be estimated. The inputs of the Beta function are:\n",
    "- name (usually the same as used in the equation, for clarity)\n",
    "- starting value (keep at 0)\n",
    "- lower bound (None, unless otherwise decided)\n",
    "- upper bound (None, unless otherwise decided)\n",
    "- estimate (0) or not (1) the specific parameter"
   ]
  },
  {
   "cell_type": "code",
   "execution_count": null,
   "id": "01d2d692",
   "metadata": {},
   "outputs": [],
   "source": [
    "ASC_CAR = Beta('ASC_CAR',0,None,None,0)\n",
    "ASC_PT = Beta('ASC_PT',0,None,None,0)\n",
    "\n",
    "B_TIME = Beta('B_TIME',0,None,None,0)\n",
    "B_COST = Beta('B_COST',0,None,None,0)"
   ]
  },
  {
   "cell_type": "markdown",
   "id": "5995d2f3",
   "metadata": {},
   "source": [
    "Define the utility functions of the three alternatives. In this case, V1 represents bike, V2 public transport and V3 the car."
   ]
  },
  {
   "cell_type": "code",
   "execution_count": null,
   "id": "fdb1895e",
   "metadata": {},
   "outputs": [],
   "source": [
    "V1 =           B_TIME * bike_time + B_COST * bike_cost\n",
    "V2 = ASC_PT  + B_TIME * pt_time   + B_COST * pt_cost\n",
    "V3 = ASC_CAR + B_TIME * car_time  + B_COST * car_cost"
   ]
  },
  {
   "cell_type": "markdown",
   "id": "32d7139c",
   "metadata": {},
   "source": [
    "Finally, we create a dictionary of all utility functions, availability of alternatives (all 1 in this case) and estimate the model."
   ]
  },
  {
   "cell_type": "markdown",
   "id": "470326e6",
   "metadata": {},
   "source": [
    "## Coding explanation\n",
    "modality:\n",
    "    1=bike\n",
    "    2=pt\n",
    "    3=car\n",
    "\n",
    "block_1 = trip purpose\n",
    "    0 = work\n",
    "    1 = leisure\n",
    "\n",
    "block_2 = weather\n",
    "    0 = dry and 15degrees\n",
    "    1 = rain and 10degrees\n",
    "\n",
    "mode_frequency:\n",
    "mode_frequency_1 = car\n",
    "mode_frequency_2 = bike\n",
    "mode_frequency_3 = bus, tram, metro\n",
    "mode_frequency_4 = train\n",
    "\n",
    "1 = 4 or more days per week\n",
    "2= 1-3 days per week\n",
    "3 = 1-3 days per month\n",
    "4 = 6-11 days per year\n",
    "5 = 1-5 days per year\n",
    "6 = (almost) never\n",
    "    \n",
    "car_license:\n",
    "    1 = Yes\n",
    "    2 = No\n",
    "\n",
    "gender:\n",
    "    1 = male\n",
    "    2 = female\n",
    "    3 = non-binary\n",
    "    4 = rather not say\n"
   ]
  },
  {
   "cell_type": "code",
   "execution_count": null,
   "id": "5f1522ee",
   "metadata": {},
   "outputs": [],
   "source": [
    "V = {1: V1, 2: V2, 3: V3}\n",
    "av = {1: 1,  2: 1,  3: 1}\n",
    "\n",
    "logprob = models.loglogit(V,av,modality)\n",
    "\n",
    "biogeme = bio.BIOGEME(database,logprob)\n",
    "biogeme.modelName = name\n",
    "biogeme.saveIterations = False\n",
    "biogeme.generate_pickle = False\n",
    "biogeme.generate_html = True\n",
    "results = biogeme.estimate()\n",
    "parameters = results.getEstimatedParameters()\n",
    "statistics = pd.DataFrame(data=results.getGeneralStatistics()).transpose()[0]"
   ]
  },
  {
   "cell_type": "markdown",
   "id": "c261cea0",
   "metadata": {},
   "source": [
    "Inspect the model statistics."
   ]
  },
  {
   "cell_type": "code",
   "execution_count": null,
   "id": "47d5fa0f",
   "metadata": {},
   "outputs": [],
   "source": [
    "print(statistics)"
   ]
  },
  {
   "cell_type": "markdown",
   "id": "acfecb4a",
   "metadata": {},
   "source": [
    "Inspect the parameter outcomes"
   ]
  },
  {
   "cell_type": "code",
   "execution_count": null,
   "id": "efe1899c",
   "metadata": {},
   "outputs": [],
   "source": [
    "print(parameters)"
   ]
  },
  {
   "cell_type": "markdown",
   "id": "bab1b6a9",
   "metadata": {},
   "source": [
    "# Value of time trade-off"
   ]
  },
  {
   "cell_type": "markdown",
   "id": "5815e9d6",
   "metadata": {},
   "source": [
    "To analyse the trade-offs of different parameters, we can divide them to get an idea of what they mean."
   ]
  },
  {
   "cell_type": "code",
   "execution_count": null,
   "id": "a766ed40",
   "metadata": {},
   "outputs": [],
   "source": [
    "VoT = parameters.loc['B_TIME','Value']/parameters.loc['B_COST','Value']\n",
    "print(VoT)"
   ]
  },
  {
   "cell_type": "markdown",
   "id": "b616156c",
   "metadata": {},
   "source": [
    "This is the number of credits people are willing to pay to save 1 min of travel time."
   ]
  }
 ],
 "metadata": {
  "kernelspec": {
   "display_name": "Python 3 (ipykernel)",
   "language": "python",
   "name": "python3"
  },
  "language_info": {
   "codemirror_mode": {
    "name": "ipython",
    "version": 3
   },
   "file_extension": ".py",
   "mimetype": "text/x-python",
   "name": "python",
   "nbconvert_exporter": "python",
   "pygments_lexer": "ipython3",
   "version": "3.11.4"
  }
 },
 "nbformat": 4,
 "nbformat_minor": 5
}
